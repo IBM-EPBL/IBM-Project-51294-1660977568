{
  "nbformat": 4,
  "nbformat_minor": 0,
  "metadata": {
    "colab": {
      "provenance": [],
      "collapsed_sections": []
    },
    "kernelspec": {
      "name": "python3",
      "display_name": "Python 3"
    },
    "language_info": {
      "name": "python"
    },
    "gpuClass": "standard"
  },
  "cells": [
    {
      "cell_type": "code",
      "source": [
        "from google.colab import drive\n",
        "drive.mount('/content/drive')"
      ],
      "metadata": {
        "colab": {
          "base_uri": "https://localhost:8080/"
        },
        "id": "YrjX013PWY71",
        "outputId": "55e8a9eb-5ee1-4448-bb53-39ef8f1bb5b9"
      },
      "execution_count": 1,
      "outputs": [
        {
          "output_type": "stream",
          "name": "stdout",
          "text": [
            "Mounted at /content/drive\n"
          ]
        }
      ]
    },
    {
      "cell_type": "code",
      "source": [
        "from tensorflow.keras.preprocessing.image import ImageDataGenerator"
      ],
      "metadata": {
        "id": "1xl0RXHVhMyH"
      },
      "execution_count": 2,
      "outputs": []
    },
    {
      "cell_type": "markdown",
      "source": [
        "# Define the parameters/arguments for ImageDataGenerator class"
      ],
      "metadata": {
        "id": "jXWZ4-HuWoA7"
      }
    },
    {
      "cell_type": "code",
      "source": [
        "train_datagen = ImageDataGenerator(rescale = 1./255,shear_range = 0.2,zoom_range = 0.2,horizontal_flip = True)\n",
        "test_datagen = ImageDataGenerator(rescale = 1./255)"
      ],
      "metadata": {
        "id": "ytKUOUWRWqgu"
      },
      "execution_count": 33,
      "outputs": []
    },
    {
      "cell_type": "markdown",
      "source": [
        "# Applying ImageDataGenerator functionality to trainset and testset"
      ],
      "metadata": {
        "id": "UtXZRisrWuwm"
      }
    },
    {
      "cell_type": "code",
      "source": [
        "x_train = train_datagen.flow_from_directory(r'/content/drive/MyDrive/Dataset/train', target_size = (64,64),\n",
        "                                            batch_size = 5, class_mode = 'categorical')\n",
        "x_test = test_datagen.flow_from_directory(r'/content/drive/MyDrive/Dataset/test', target_size = (64,64),\n",
        "                                          batch_size = 8, class_mode = 'categorical')"
      ],
      "metadata": {
        "colab": {
          "base_uri": "https://localhost:8080/"
        },
        "id": "wcaV_tsTWzCV",
        "outputId": "ee37fd56-0fee-4b86-a3b3-939168f20ce0"
      },
      "execution_count": 34,
      "outputs": [
        {
          "output_type": "stream",
          "name": "stdout",
          "text": [
            "Found 594 images belonging to 6 classes.\n",
            "Found 30 images belonging to 6 classes.\n"
          ]
        }
      ]
    },
    {
      "cell_type": "markdown",
      "source": [
        "# Importing the Libraries"
      ],
      "metadata": {
        "id": "kP0mZUX0K5tl"
      }
    },
    {
      "cell_type": "code",
      "execution_count": 13,
      "metadata": {
        "id": "sXFQztO3KHUY"
      },
      "outputs": [],
      "source": [
        "import numpy as np\n",
        "from tensorflow.keras.models import Sequential\n",
        "from tensorflow.keras import layers\n",
        "from tensorflow.keras.layers import Dense,Flatten\n",
        "from tensorflow.keras.layers import Conv2D,MaxPooling2D\n",
        "from tensorflow.keras.preprocessing.image import ImageDataGenerator"
      ]
    },
    {
      "cell_type": "markdown",
      "source": [
        "# Initializing the Model"
      ],
      "metadata": {
        "id": "rDXMLdD5LXYV"
      }
    },
    {
      "cell_type": "code",
      "source": [
        "model = Sequential()"
      ],
      "metadata": {
        "id": "6CchG-JoLe51"
      },
      "execution_count": 36,
      "outputs": []
    },
    {
      "cell_type": "markdown",
      "source": [
        "# Adding CNN Layers"
      ],
      "metadata": {
        "id": "CtWh7PMFNyAh"
      }
    },
    {
      "cell_type": "code",
      "source": [
        "#First Convolution Layer and Pooling\n",
        "model.add(Conv2D(32, (3, 3), input_shape = (64, 64, 3), activation = 'relu'))\n",
        "model.add(MaxPooling2D(pool_size = (2, 2)))\n",
        "#Second Convolution Layer and Pooling\n",
        "model.add(Conv2D(32, (3, 3), activation = 'relu'))\n",
        "model.add(MaxPooling2D(pool_size = (2, 2)))\n",
        "#Flattening the Layers\n",
        "model.add(Flatten())"
      ],
      "metadata": {
        "id": "LDBye613N57Q"
      },
      "execution_count": 37,
      "outputs": []
    },
    {
      "cell_type": "markdown",
      "source": [
        "# Adding Dense Layers"
      ],
      "metadata": {
        "id": "HsE5PK19RfQ0"
      }
    },
    {
      "cell_type": "code",
      "source": [
        "#Adding a fully connected layer\n",
        "model.add(Dense(units = 128, activation = 'relu'))\n",
        "model.add(Dense(units = 6, activation = 'softmax'))\n",
        "model.summary()"
      ],
      "metadata": {
        "id": "jzcBv1QaRmeg",
        "colab": {
          "base_uri": "https://localhost:8080/"
        },
        "outputId": "d513b9b3-62a5-42e6-9ca3-8d442c705b75"
      },
      "execution_count": 38,
      "outputs": [
        {
          "output_type": "stream",
          "name": "stdout",
          "text": [
            "Model: \"sequential_2\"\n",
            "_________________________________________________________________\n",
            " Layer (type)                Output Shape              Param #   \n",
            "=================================================================\n",
            " conv2d_5 (Conv2D)           (None, 62, 62, 32)        896       \n",
            "                                                                 \n",
            " max_pooling2d_4 (MaxPooling  (None, 31, 31, 32)       0         \n",
            " 2D)                                                             \n",
            "                                                                 \n",
            " conv2d_6 (Conv2D)           (None, 29, 29, 32)        9248      \n",
            "                                                                 \n",
            " max_pooling2d_5 (MaxPooling  (None, 14, 14, 32)       0         \n",
            " 2D)                                                             \n",
            "                                                                 \n",
            " flatten_2 (Flatten)         (None, 6272)              0         \n",
            "                                                                 \n",
            " dense_4 (Dense)             (None, 128)               802944    \n",
            "                                                                 \n",
            " dense_5 (Dense)             (None, 6)                 774       \n",
            "                                                                 \n",
            "=================================================================\n",
            "Total params: 813,862\n",
            "Trainable params: 813,862\n",
            "Non-trainable params: 0\n",
            "_________________________________________________________________\n"
          ]
        }
      ]
    },
    {
      "cell_type": "markdown",
      "source": [
        "# Configuring the Learning Process"
      ],
      "metadata": {
        "id": "PLYwW5dsVE8R"
      }
    },
    {
      "cell_type": "code",
      "source": [
        "model.compile(optimizer = 'adam', loss = 'categorical_crossentropy', metrics = ['accuracy'])"
      ],
      "metadata": {
        "id": "zgTqWTJ8VLbz"
      },
      "execution_count": 39,
      "outputs": []
    },
    {
      "cell_type": "markdown",
      "source": [
        "# Train the Model"
      ],
      "metadata": {
        "id": "IdAQYuZ6Vv5z"
      }
    },
    {
      "cell_type": "code",
      "source": [
        "model.fit_generator(x_train, steps_per_epoch = len(x_train), epochs = 5,\n",
        "    validation_data = x_test, validation_steps = len(x_test))"
      ],
      "metadata": {
        "id": "Ks0vkTqTVylc",
        "colab": {
          "base_uri": "https://localhost:8080/"
        },
        "outputId": "4ee9aecd-2e3e-400c-8460-c45f095d8649"
      },
      "execution_count": 40,
      "outputs": [
        {
          "output_type": "stream",
          "name": "stdout",
          "text": [
            "Epoch 1/5\n"
          ]
        },
        {
          "output_type": "stream",
          "name": "stderr",
          "text": [
            "/usr/local/lib/python3.7/dist-packages/ipykernel_launcher.py:2: UserWarning: `Model.fit_generator` is deprecated and will be removed in a future version. Please use `Model.fit`, which supports generators.\n",
            "  \n"
          ]
        },
        {
          "output_type": "stream",
          "name": "stdout",
          "text": [
            "119/119 [==============================] - 7s 55ms/step - loss: 1.4076 - accuracy: 0.4478 - val_loss: 0.8831 - val_accuracy: 0.7000\n",
            "Epoch 2/5\n",
            "119/119 [==============================] - 6s 52ms/step - loss: 0.6701 - accuracy: 0.7475 - val_loss: 0.7406 - val_accuracy: 0.8000\n",
            "Epoch 3/5\n",
            "119/119 [==============================] - 6s 53ms/step - loss: 0.5073 - accuracy: 0.7946 - val_loss: 0.4611 - val_accuracy: 0.8667\n",
            "Epoch 4/5\n",
            "119/119 [==============================] - 7s 58ms/step - loss: 0.3044 - accuracy: 0.8889 - val_loss: 0.4815 - val_accuracy: 0.8667\n",
            "Epoch 5/5\n",
            "119/119 [==============================] - 7s 59ms/step - loss: 0.2493 - accuracy: 0.9074 - val_loss: 0.4033 - val_accuracy: 0.9333\n"
          ]
        },
        {
          "output_type": "execute_result",
          "data": {
            "text/plain": [
              "<keras.callbacks.History at 0x7f3e25ec4d10>"
            ]
          },
          "metadata": {},
          "execution_count": 40
        }
      ]
    },
    {
      "cell_type": "markdown",
      "source": [
        "# Save the Model"
      ],
      "metadata": {
        "id": "zy69mOHI9NzY"
      }
    },
    {
      "cell_type": "code",
      "source": [
        "model.save('gesture.h5')\n",
        "model_json = model.to_json()\n",
        "with open(\"model-bw.json\", \"w\") as json_file:\n",
        "  json_file.write(model_json)"
      ],
      "metadata": {
        "id": "TyAckd049SUz"
      },
      "execution_count": 41,
      "outputs": []
    },
    {
      "cell_type": "markdown",
      "source": [
        "# Test the Model"
      ],
      "metadata": {
        "id": "c0H5Y9wM936A"
      }
    },
    {
      "cell_type": "markdown",
      "source": [
        "**Prediction**"
      ],
      "metadata": {
        "id": "InMstAUv-dmZ"
      }
    },
    {
      "cell_type": "code",
      "source": [
        "from tensorflow.keras.models import load_model\n",
        "from tensorflow.keras.preprocessing import image\n",
        "model = load_model(\"gesture.h5\")\n",
        "path = \"/content/drive/MyDrive/Dataset/test/0/1.jpg\"\n"
      ],
      "metadata": {
        "id": "VFzbKRKzDQaU"
      },
      "execution_count": 42,
      "outputs": []
    },
    {
      "cell_type": "markdown",
      "source": [
        "**Plotting Images**"
      ],
      "metadata": {
        "id": "8R9BPGqAELti"
      }
    },
    {
      "cell_type": "code",
      "source": [
        "%pylab inline\n",
        "import matplotlib.pyplot as plt\n",
        "import matplotlib.image as mpimg\n",
        "imgs = mpimg.imread(path)\n",
        "imgplot = plt.imshow(imgs)\n",
        "plt.show()"
      ],
      "metadata": {
        "colab": {
          "base_uri": "https://localhost:8080/",
          "height": 287
        },
        "id": "k6pVSkU1EJbM",
        "outputId": "38594250-e30e-4d7e-ec3c-832f1cbf4e79"
      },
      "execution_count": 43,
      "outputs": [
        {
          "output_type": "stream",
          "name": "stdout",
          "text": [
            "Populating the interactive namespace from numpy and matplotlib\n"
          ]
        },
        {
          "output_type": "display_data",
          "data": {
            "text/plain": [
              "<Figure size 432x288 with 1 Axes>"
            ],
            "image/png": "[encoded data removed]"
          },
          "metadata": {
            "needs_background": "light"
          }
        }
      ]
    }
  ]
}